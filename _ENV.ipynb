{
  "nbformat": 4,
  "nbformat_minor": 0,
  "metadata": {
    "colab": {
      "provenance": []
    },
    "kernelspec": {
      "name": "python3",
      "display_name": "Python 3"
    },
    "language_info": {
      "name": "python"
    }
  },
  "cells": [
    {
      "cell_type": "code",
      "execution_count": 2,
      "metadata": {
        "id": "SfnWnus99Nq9"
      },
      "outputs": [],
      "source": [
        "GROQ_API_KEY=\"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\""
      ]
    }
  ]
}